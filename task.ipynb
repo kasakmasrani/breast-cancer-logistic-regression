# Breast Cancer Classification with Logistic Regression

import pandas as pd
import numpy as np
import matplotlib.pyplot as plt
from sklearn.model_selection import train_test_split
from sklearn.preprocessing import StandardScaler
from sklearn.linear_model import LogisticRegression
from sklearn.metrics import (confusion_matrix, classification_report, 
                            precision_score, recall_score, roc_auc_score, 
                            roc_curve, precision_recall_curve)

# Load the dataset
data = pd.read_csv('data.csv')

# Data Preprocessing
# Drop unnecessary columns
data = data.drop(['id', 'Unnamed: 32'], axis=1)

# Convert diagnosis to binary (M=1, B=0)
data['diagnosis'] = data['diagnosis'].map({'M':1, 'B':0})

# Split into features and target
X = data.drop('diagnosis', axis=1)
y = data['diagnosis']

# Train-test split
X_train, X_test, y_train, y_test = train_test_split(
    X, y, test_size=0.3, random_state=42)

# Standardize features
scaler = StandardScaler()
X_train = scaler.fit_transform(X_train)
X_test = scaler.transform(X_test)

# Logistic Regression Model
model = LogisticRegression(random_state=42)
model.fit(X_train, y_train)

# Predictions
y_pred = model.predict(X_test)
y_pred_proba = model.predict_proba(X_test)[:, 1]  # Probabilities for class 1

# Evaluation Metrics
print("Confusion Matrix:")
print(confusion_matrix(y_test, y_pred))

print("\nClassification Report:")
print(classification_report(y_test, y_pred))

print(f"Precision: {precision_score(y_test, y_pred):.3f}")
print(f"Recall: {recall_score(y_test, y_pred):.3f}")
print(f"ROC-AUC: {roc_auc_score(y_test, y_pred_proba):.3f}")

# ROC Curve
fpr, tpr, thresholds = roc_curve(y_test, y_pred_proba)
plt.figure(figsize=(8, 6))
plt.plot(fpr, tpr, label='ROC Curve')
plt.plot([0, 1], [0, 1], 'k--')
plt.xlabel('False Positive Rate')
plt.ylabel('True Positive Rate')
plt.title('ROC Curve')
plt.legend()
plt.show()

# Precision-Recall Curve
precision, recall, thresholds = precision_recall_curve(y_test, y_pred_proba)
plt.figure(figsize=(8, 6))
plt.plot(recall, precision, label='Precision-Recall Curve')
plt.xlabel('Recall')
plt.ylabel('Precision')
plt.title('Precision-Recall Curve')
plt.legend()
plt.show()

# Threshold Tuning
thresholds = np.arange(0.1, 1, 0.1)
for threshold in thresholds:
    y_pred_thresh = (y_pred_proba >= threshold).astype(int)
    print(f"\nThreshold: {threshold:.1f}")
    print(f"Precision: {precision_score(y_test, y_pred_thresh):.3f}")
    print(f"Recall: {recall_score(y_test, y_pred_thresh):.3f}")

# Sigmoid Function Explanation
x = np.linspace(-10, 10, 100)
y_sigmoid = 1 / (1 + np.exp(-x))
plt.figure(figsize=(8, 6))
plt.plot(x, y_sigmoid)
plt.title('Sigmoid Function')
plt.xlabel('z')
plt.ylabel('σ(z)')
plt.grid(True)
plt.show()
